{
 "cells": [
  {
   "cell_type": "markdown",
   "metadata": {
    "colab_type": "text",
    "id": "0MRC0e0KhQ0S"
   },
   "source": [
    "# Decision Tree Classification"
   ]
  },
  {
   "cell_type": "markdown",
   "metadata": {
    "colab_type": "text",
    "id": "LWd1UlMnhT2s"
   },
   "source": [
    "## Importing the libraries"
   ]
  },
  {
   "cell_type": "code",
   "execution_count": 1,
   "metadata": {
    "colab": {},
    "colab_type": "code",
    "id": "YvGPUQaHhXfL"
   },
   "outputs": [],
   "source": [
    "import numpy as np\n",
    "import matplotlib.pyplot as plt\n",
    "import pandas as pd"
   ]
  },
  {
   "cell_type": "markdown",
   "metadata": {
    "colab_type": "text",
    "id": "K1VMqkGvhc3-"
   },
   "source": [
    "## Importing the dataset"
   ]
  },
  {
   "cell_type": "code",
   "execution_count": 2,
   "metadata": {
    "colab": {},
    "colab_type": "code",
    "id": "M52QDmyzhh9s"
   },
   "outputs": [],
   "source": [
    "dataset = pd.read_csv('train_3.csv')\n"
   ]
  },
  {
   "cell_type": "code",
   "execution_count": 3,
   "metadata": {},
   "outputs": [
    {
     "data": {
      "text/html": [
       "<div>\n",
       "<style scoped>\n",
       "    .dataframe tbody tr th:only-of-type {\n",
       "        vertical-align: middle;\n",
       "    }\n",
       "\n",
       "    .dataframe tbody tr th {\n",
       "        vertical-align: top;\n",
       "    }\n",
       "\n",
       "    .dataframe thead th {\n",
       "        text-align: right;\n",
       "    }\n",
       "</style>\n",
       "<table border=\"1\" class=\"dataframe\">\n",
       "  <thead>\n",
       "    <tr style=\"text-align: right;\">\n",
       "      <th></th>\n",
       "      <th>pgNo</th>\n",
       "      <th>startX</th>\n",
       "      <th>startY</th>\n",
       "      <th>endX</th>\n",
       "      <th>endY</th>\n",
       "      <th>w</th>\n",
       "      <th>h</th>\n",
       "      <th>fntSize</th>\n",
       "      <th>txtColor</th>\n",
       "      <th>txtFnt</th>\n",
       "      <th>docName</th>\n",
       "      <th>pgW</th>\n",
       "      <th>pgH</th>\n",
       "      <th>topMargin</th>\n",
       "      <th>bottomMargin</th>\n",
       "      <th>leftMargin</th>\n",
       "      <th>rightMargin</th>\n",
       "      <th>txt</th>\n",
       "      <th>label</th>\n",
       "    </tr>\n",
       "  </thead>\n",
       "  <tbody>\n",
       "    <tr>\n",
       "      <th>0</th>\n",
       "      <td>1</td>\n",
       "      <td>232.28</td>\n",
       "      <td>113.89</td>\n",
       "      <td>345.50</td>\n",
       "      <td>121.77</td>\n",
       "      <td>113.22</td>\n",
       "      <td>7.88</td>\n",
       "      <td>15.75</td>\n",
       "      <td>-16777216</td>\n",
       "      <td>BookmanOldStyle-Bold</td>\n",
       "      <td>alsecure.pdf</td>\n",
       "      <td>612.0</td>\n",
       "      <td>792.0</td>\n",
       "      <td>113.89</td>\n",
       "      <td>670.23</td>\n",
       "      <td>232.28</td>\n",
       "      <td>266.50</td>\n",
       "      <td>Tel:  0522-4106133</td>\n",
       "      <td>Undefined</td>\n",
       "    </tr>\n",
       "    <tr>\n",
       "      <th>1</th>\n",
       "      <td>1</td>\n",
       "      <td>232.28</td>\n",
       "      <td>127.69</td>\n",
       "      <td>391.18</td>\n",
       "      <td>135.57</td>\n",
       "      <td>158.90</td>\n",
       "      <td>7.88</td>\n",
       "      <td>15.75</td>\n",
       "      <td>-16777216</td>\n",
       "      <td>BookmanOldStyle-Bold</td>\n",
       "      <td>alsecure.pdf</td>\n",
       "      <td>612.0</td>\n",
       "      <td>792.0</td>\n",
       "      <td>127.69</td>\n",
       "      <td>656.43</td>\n",
       "      <td>232.28</td>\n",
       "      <td>220.82</td>\n",
       "      <td>GSTIN: 09AAECA8210H1ZU</td>\n",
       "      <td>Undefined</td>\n",
       "    </tr>\n",
       "    <tr>\n",
       "      <th>2</th>\n",
       "      <td>1</td>\n",
       "      <td>501.66</td>\n",
       "      <td>219.46</td>\n",
       "      <td>508.35</td>\n",
       "      <td>225.88</td>\n",
       "      <td>6.69</td>\n",
       "      <td>6.42</td>\n",
       "      <td>12.97</td>\n",
       "      <td>-16777216</td>\n",
       "      <td>Calibri-Bold</td>\n",
       "      <td>alsecure.pdf</td>\n",
       "      <td>612.0</td>\n",
       "      <td>792.0</td>\n",
       "      <td>219.46</td>\n",
       "      <td>566.12</td>\n",
       "      <td>501.66</td>\n",
       "      <td>103.65</td>\n",
       "      <td>N</td>\n",
       "      <td>Undefined</td>\n",
       "    </tr>\n",
       "    <tr>\n",
       "      <th>3</th>\n",
       "      <td>1</td>\n",
       "      <td>265.07</td>\n",
       "      <td>232.49</td>\n",
       "      <td>286.40</td>\n",
       "      <td>238.91</td>\n",
       "      <td>21.33</td>\n",
       "      <td>6.42</td>\n",
       "      <td>12.97</td>\n",
       "      <td>-16777216</td>\n",
       "      <td>Calibri-Bold</td>\n",
       "      <td>alsecure.pdf</td>\n",
       "      <td>612.0</td>\n",
       "      <td>792.0</td>\n",
       "      <td>232.49</td>\n",
       "      <td>553.09</td>\n",
       "      <td>265.07</td>\n",
       "      <td>325.60</td>\n",
       "      <td>Code</td>\n",
       "      <td>Undefined</td>\n",
       "    </tr>\n",
       "    <tr>\n",
       "      <th>4</th>\n",
       "      <td>1</td>\n",
       "      <td>338.93</td>\n",
       "      <td>232.49</td>\n",
       "      <td>349.26</td>\n",
       "      <td>238.91</td>\n",
       "      <td>10.33</td>\n",
       "      <td>6.42</td>\n",
       "      <td>12.97</td>\n",
       "      <td>-16777216</td>\n",
       "      <td>Calibri-Bold</td>\n",
       "      <td>alsecure.pdf</td>\n",
       "      <td>612.0</td>\n",
       "      <td>792.0</td>\n",
       "      <td>232.49</td>\n",
       "      <td>553.09</td>\n",
       "      <td>338.93</td>\n",
       "      <td>262.74</td>\n",
       "      <td>8</td>\n",
       "      <td>Undefined</td>\n",
       "    </tr>\n",
       "    <tr>\n",
       "      <th>...</th>\n",
       "      <td>...</td>\n",
       "      <td>...</td>\n",
       "      <td>...</td>\n",
       "      <td>...</td>\n",
       "      <td>...</td>\n",
       "      <td>...</td>\n",
       "      <td>...</td>\n",
       "      <td>...</td>\n",
       "      <td>...</td>\n",
       "      <td>...</td>\n",
       "      <td>...</td>\n",
       "      <td>...</td>\n",
       "      <td>...</td>\n",
       "      <td>...</td>\n",
       "      <td>...</td>\n",
       "      <td>...</td>\n",
       "      <td>...</td>\n",
       "      <td>...</td>\n",
       "      <td>...</td>\n",
       "    </tr>\n",
       "    <tr>\n",
       "      <th>5755</th>\n",
       "      <td>1</td>\n",
       "      <td>339.63</td>\n",
       "      <td>1480.12</td>\n",
       "      <td>640.88</td>\n",
       "      <td>1485.92</td>\n",
       "      <td>301.25</td>\n",
       "      <td>5.80</td>\n",
       "      <td>11.60</td>\n",
       "      <td>-16777216</td>\n",
       "      <td>Helvetica-Bold</td>\n",
       "      <td>L29T1920-20553 Manpower.pdf</td>\n",
       "      <td>1191.0</td>\n",
       "      <td>1684.0</td>\n",
       "      <td>1480.12</td>\n",
       "      <td>198.08</td>\n",
       "      <td>339.63</td>\n",
       "      <td>550.12</td>\n",
       "      <td>TEAMLEASE SERVICES LTD., CIN No:...</td>\n",
       "      <td>Undefined</td>\n",
       "    </tr>\n",
       "    <tr>\n",
       "      <th>5756</th>\n",
       "      <td>1</td>\n",
       "      <td>275.45</td>\n",
       "      <td>1491.82</td>\n",
       "      <td>430.92</td>\n",
       "      <td>1497.62</td>\n",
       "      <td>155.47</td>\n",
       "      <td>5.80</td>\n",
       "      <td>11.60</td>\n",
       "      <td>-16777216</td>\n",
       "      <td>Helvetica-Bold</td>\n",
       "      <td>L29T1920-20553 Manpower.pdf</td>\n",
       "      <td>1191.0</td>\n",
       "      <td>1684.0</td>\n",
       "      <td>1491.82</td>\n",
       "      <td>186.38</td>\n",
       "      <td>275.45</td>\n",
       "      <td>760.08</td>\n",
       "      <td>REGISTERED OFFICE ADDRESS:</td>\n",
       "      <td>Undefined</td>\n",
       "    </tr>\n",
       "    <tr>\n",
       "      <th>5757</th>\n",
       "      <td>1</td>\n",
       "      <td>433.63</td>\n",
       "      <td>1491.98</td>\n",
       "      <td>705.05</td>\n",
       "      <td>1497.62</td>\n",
       "      <td>271.42</td>\n",
       "      <td>5.64</td>\n",
       "      <td>11.27</td>\n",
       "      <td>-16777216</td>\n",
       "      <td>Helvetica</td>\n",
       "      <td>L29T1920-20553 Manpower.pdf</td>\n",
       "      <td>1191.0</td>\n",
       "      <td>1684.0</td>\n",
       "      <td>1491.98</td>\n",
       "      <td>186.38</td>\n",
       "      <td>433.63</td>\n",
       "      <td>485.95</td>\n",
       "      <td>6TH FLOOR, BMTC COMMERCIAL COMPLEX, 80 FT ROAD,</td>\n",
       "      <td>Undefined</td>\n",
       "    </tr>\n",
       "    <tr>\n",
       "      <th>5758</th>\n",
       "      <td>1</td>\n",
       "      <td>321.20</td>\n",
       "      <td>1503.68</td>\n",
       "      <td>639.83</td>\n",
       "      <td>1509.32</td>\n",
       "      <td>318.63</td>\n",
       "      <td>5.64</td>\n",
       "      <td>11.27</td>\n",
       "      <td>-16777216</td>\n",
       "      <td>Helvetica</td>\n",
       "      <td>L29T1920-20553 Manpower.pdf</td>\n",
       "      <td>1191.0</td>\n",
       "      <td>1684.0</td>\n",
       "      <td>1503.68</td>\n",
       "      <td>174.68</td>\n",
       "      <td>321.20</td>\n",
       "      <td>551.17</td>\n",
       "      <td>KORAMANGALA, BANGALORE – 560095, KARNATAKA, IN...</td>\n",
       "      <td>Undefined</td>\n",
       "    </tr>\n",
       "    <tr>\n",
       "      <th>5759</th>\n",
       "      <td>1</td>\n",
       "      <td>327.70</td>\n",
       "      <td>1515.38</td>\n",
       "      <td>633.34</td>\n",
       "      <td>1521.02</td>\n",
       "      <td>305.64</td>\n",
       "      <td>5.64</td>\n",
       "      <td>11.27</td>\n",
       "      <td>-16777216</td>\n",
       "      <td>Helvetica</td>\n",
       "      <td>L29T1920-20553 Manpower.pdf</td>\n",
       "      <td>1191.0</td>\n",
       "      <td>1684.0</td>\n",
       "      <td>1515.38</td>\n",
       "      <td>162.98</td>\n",
       "      <td>327.70</td>\n",
       "      <td>557.66</td>\n",
       "      <td>Phone: (91-80) 68243000 Fax: (91-80) 68243001 ...</td>\n",
       "      <td>Undefined</td>\n",
       "    </tr>\n",
       "  </tbody>\n",
       "</table>\n",
       "<p>5760 rows × 19 columns</p>\n",
       "</div>"
      ],
      "text/plain": [
       "      pgNo  startX   startY    endX     endY       w     h  fntSize  txtColor  \\\n",
       "0        1  232.28   113.89  345.50   121.77  113.22  7.88    15.75 -16777216   \n",
       "1        1  232.28   127.69  391.18   135.57  158.90  7.88    15.75 -16777216   \n",
       "2        1  501.66   219.46  508.35   225.88    6.69  6.42    12.97 -16777216   \n",
       "3        1  265.07   232.49  286.40   238.91   21.33  6.42    12.97 -16777216   \n",
       "4        1  338.93   232.49  349.26   238.91   10.33  6.42    12.97 -16777216   \n",
       "...    ...     ...      ...     ...      ...     ...   ...      ...       ...   \n",
       "5755     1  339.63  1480.12  640.88  1485.92  301.25  5.80    11.60 -16777216   \n",
       "5756     1  275.45  1491.82  430.92  1497.62  155.47  5.80    11.60 -16777216   \n",
       "5757     1  433.63  1491.98  705.05  1497.62  271.42  5.64    11.27 -16777216   \n",
       "5758     1  321.20  1503.68  639.83  1509.32  318.63  5.64    11.27 -16777216   \n",
       "5759     1  327.70  1515.38  633.34  1521.02  305.64  5.64    11.27 -16777216   \n",
       "\n",
       "                    txtFnt                      docName     pgW     pgH  \\\n",
       "0     BookmanOldStyle-Bold                 alsecure.pdf   612.0   792.0   \n",
       "1     BookmanOldStyle-Bold                 alsecure.pdf   612.0   792.0   \n",
       "2             Calibri-Bold                 alsecure.pdf   612.0   792.0   \n",
       "3             Calibri-Bold                 alsecure.pdf   612.0   792.0   \n",
       "4             Calibri-Bold                 alsecure.pdf   612.0   792.0   \n",
       "...                    ...                          ...     ...     ...   \n",
       "5755        Helvetica-Bold  L29T1920-20553 Manpower.pdf  1191.0  1684.0   \n",
       "5756        Helvetica-Bold  L29T1920-20553 Manpower.pdf  1191.0  1684.0   \n",
       "5757             Helvetica  L29T1920-20553 Manpower.pdf  1191.0  1684.0   \n",
       "5758             Helvetica  L29T1920-20553 Manpower.pdf  1191.0  1684.0   \n",
       "5759             Helvetica  L29T1920-20553 Manpower.pdf  1191.0  1684.0   \n",
       "\n",
       "      topMargin  bottomMargin  leftMargin  rightMargin  \\\n",
       "0        113.89        670.23      232.28       266.50   \n",
       "1        127.69        656.43      232.28       220.82   \n",
       "2        219.46        566.12      501.66       103.65   \n",
       "3        232.49        553.09      265.07       325.60   \n",
       "4        232.49        553.09      338.93       262.74   \n",
       "...         ...           ...         ...          ...   \n",
       "5755    1480.12        198.08      339.63       550.12   \n",
       "5756    1491.82        186.38      275.45       760.08   \n",
       "5757    1491.98        186.38      433.63       485.95   \n",
       "5758    1503.68        174.68      321.20       551.17   \n",
       "5759    1515.38        162.98      327.70       557.66   \n",
       "\n",
       "                                                    txt      label  \n",
       "0                                    Tel:  0522-4106133  Undefined  \n",
       "1                                GSTIN: 09AAECA8210H1ZU  Undefined  \n",
       "2                                                     N  Undefined  \n",
       "3                                                  Code  Undefined  \n",
       "4                                                     8  Undefined  \n",
       "...                                                 ...        ...  \n",
       "5755                TEAMLEASE SERVICES LTD., CIN No:...  Undefined  \n",
       "5756                         REGISTERED OFFICE ADDRESS:  Undefined  \n",
       "5757    6TH FLOOR, BMTC COMMERCIAL COMPLEX, 80 FT ROAD,  Undefined  \n",
       "5758  KORAMANGALA, BANGALORE – 560095, KARNATAKA, IN...  Undefined  \n",
       "5759  Phone: (91-80) 68243000 Fax: (91-80) 68243001 ...  Undefined  \n",
       "\n",
       "[5760 rows x 19 columns]"
      ]
     },
     "execution_count": 3,
     "metadata": {},
     "output_type": "execute_result"
    }
   ],
   "source": [
    "dataset"
   ]
  },
  {
   "cell_type": "markdown",
   "metadata": {
    "colab_type": "text",
    "id": "YvxIPVyMhmKp"
   },
   "source": [
    "## Splitting the dataset into the Training set and Test set"
   ]
  },
  {
   "cell_type": "code",
   "execution_count": 4,
   "metadata": {
    "colab": {},
    "colab_type": "code",
    "id": "AVzJWAXIhxoC"
   },
   "outputs": [],
   "source": [
    "from sklearn.model_selection import train_test_split\n",
    "X_train, X_test, y_train, y_test = train_test_split(X, y, test_size = 0.25, random_state = 0)"
   ]
  },
  {
   "cell_type": "markdown",
   "metadata": {
    "colab_type": "text",
    "id": "kW3c7UYih0hT"
   },
   "source": [
    "## Feature Scaling"
   ]
  },
  {
   "cell_type": "code",
   "execution_count": 5,
   "metadata": {
    "colab": {},
    "colab_type": "code",
    "id": "9fQlDPKCh8sc"
   },
   "outputs": [],
   "source": [
    "from sklearn.preprocessing import StandardScaler\n",
    "sc = StandardScaler()\n",
    "X_train = sc.fit_transform(X_train)\n",
    "X_test = sc.transform(X_test)"
   ]
  },
  {
   "cell_type": "markdown",
   "metadata": {
    "colab_type": "text",
    "id": "bb6jCOCQiAmP"
   },
   "source": [
    "## Training the Decision Tree Classification model on the Training set"
   ]
  },
  {
   "cell_type": "code",
   "execution_count": 6,
   "metadata": {
    "colab": {},
    "colab_type": "code",
    "id": "e0pFVAmciHQs"
   },
   "outputs": [
    {
     "data": {
      "text/plain": [
       "DecisionTreeClassifier(criterion='entropy', random_state=0)"
      ]
     },
     "execution_count": 6,
     "metadata": {},
     "output_type": "execute_result"
    }
   ],
   "source": [
    "from sklearn.tree import DecisionTreeClassifier\n",
    "classifier = DecisionTreeClassifier(criterion = 'entropy', random_state = 0)\n",
    "classifier.fit(X_train, y_train)"
   ]
  },
  {
   "cell_type": "markdown",
   "metadata": {
    "colab_type": "text",
    "id": "h4Hwj34ziWQW"
   },
   "source": [
    "## Making the Confusion Matrix"
   ]
  },
  {
   "cell_type": "code",
   "execution_count": 7,
   "metadata": {
    "colab": {},
    "colab_type": "code",
    "id": "D6bpZwUiiXic"
   },
   "outputs": [
    {
     "name": "stdout",
     "output_type": "stream",
     "text": [
      "[[103   4]\n",
      " [  3  61]]\n"
     ]
    },
    {
     "data": {
      "text/plain": [
       "0.9590643274853801"
      ]
     },
     "execution_count": 7,
     "metadata": {},
     "output_type": "execute_result"
    }
   ],
   "source": [
    "from sklearn.metrics import confusion_matrix, accuracy_score\n",
    "y_pred = classifier.predict(X_test)\n",
    "cm = confusion_matrix(y_test, y_pred)\n",
    "print(cm)\n",
    "accuracy_score(y_test, y_pred)"
   ]
  },
  {
   "cell_type": "code",
   "execution_count": null,
   "metadata": {},
   "outputs": [],
   "source": []
  }
 ],
 "metadata": {
  "colab": {
   "authorship_tag": "ABX9TyM4bDv8Iqp+TcQPX/T2Q+2d",
   "collapsed_sections": [],
   "machine_shape": "hm",
   "name": "decision_tree_classification.ipynb",
   "provenance": [],
   "toc_visible": true
  },
  "kernelspec": {
   "display_name": "Python 3",
   "language": "python",
   "name": "python3"
  },
  "language_info": {
   "codemirror_mode": {
    "name": "ipython",
    "version": 3
   },
   "file_extension": ".py",
   "mimetype": "text/x-python",
   "name": "python",
   "nbconvert_exporter": "python",
   "pygments_lexer": "ipython3",
   "version": "3.8.5"
  }
 },
 "nbformat": 4,
 "nbformat_minor": 1
}
