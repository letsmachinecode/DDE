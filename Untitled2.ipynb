{
 "cells": [
  {
   "cell_type": "code",
   "execution_count": 1,
   "metadata": {},
   "outputs": [],
   "source": [
    "import pandas as pd\n",
    "import numpy as np\n",
    "from sklearn.preprocessing import StandardScaler\n",
    "from sklearn.decomposition import PCA\n",
    "from sklearn.pipeline import Pipeline\n",
    "from sklearn.linear_model import LogisticRegression\n",
    "from sklearn.tree import DecisionTreeClassifier\n",
    "from sklearn.ensemble import RandomForestClassifier\n",
    "\n",
    "\n"
   ]
  },
  {
   "cell_type": "code",
   "execution_count": 2,
   "metadata": {},
   "outputs": [],
   "source": [
    "data=pd.read_csv(\"new_updated_coordinate.csv\")\n"
   ]
  },
  {
   "cell_type": "code",
   "execution_count": 3,
   "metadata": {},
   "outputs": [],
   "source": [
    "data['startX']=data['startX'].apply(np.floor)"
   ]
  },
  {
   "cell_type": "code",
   "execution_count": 4,
   "metadata": {},
   "outputs": [],
   "source": [
    "data['endX']=data['endX'].apply(np.ceil)"
   ]
  },
  {
   "cell_type": "code",
   "execution_count": 5,
   "metadata": {},
   "outputs": [],
   "source": [
    "data.loc[data['txtColor'] == (-16777216), 'txtColor'] = 1"
   ]
  },
  {
   "cell_type": "code",
   "execution_count": 6,
   "metadata": {},
   "outputs": [],
   "source": [
    "data['label'] = data['label'].fillna('unnamed')"
   ]
  },
  {
   "cell_type": "code",
   "execution_count": 7,
   "metadata": {},
   "outputs": [],
   "source": [
    "data.drop('txt',inplace=True,axis=1)"
   ]
  },
  {
   "cell_type": "code",
   "execution_count": 8,
   "metadata": {},
   "outputs": [],
   "source": [
    "data.drop('txtFnt',inplace=True,axis=1)"
   ]
  },
  {
   "cell_type": "code",
   "execution_count": 9,
   "metadata": {},
   "outputs": [],
   "source": [
    "data.drop('docName',inplace=True,axis=1)"
   ]
  },
  {
   "cell_type": "code",
   "execution_count": 10,
   "metadata": {},
   "outputs": [],
   "source": [
    "data.drop('top_txt',inplace=True,axis=1)\n",
    "data.drop('bottom_txt',inplace=True,axis=1)\n",
    "data.drop('right_txt',inplace=True,axis=1)\n",
    "data.drop('left_txt',inplace=True,axis=1)\n",
    "data.drop('top_txtColor',inplace=True,axis=1)\n",
    "data.drop('top_txtFnt',inplace=True,axis=1)\n",
    "data.drop('top_fntSize',inplace=True,axis=1)\n",
    "data.drop('bottom_txtColor',inplace=True,axis=1)\n",
    "data.drop('bottom_txtFnt',inplace=True,axis=1)\n",
    "data.drop('bottom_fntSize',inplace=True,axis=1)\n",
    "data.drop('right_txtColor',inplace=True,axis=1)\n",
    "data.drop('right_txtFnt',inplace=True,axis=1)\n",
    "data.drop('right_fntSize',inplace=True,axis=1)\n",
    "data.drop('left_txtColor',inplace=True,axis=1)\n",
    "data.drop('left_txtFnt',inplace=True,axis=1)\n",
    "data.drop('left_fntSize',inplace=True,axis=1)"
   ]
  },
  {
   "cell_type": "code",
   "execution_count": 11,
   "metadata": {},
   "outputs": [],
   "source": [
    "data['top_wordPosition'] = data['top_wordPosition'].fillna(0)\n",
    "data['top_rightMargin'] = data['top_rightMargin'].fillna(0)\n",
    "data['top_leftMargin'] = data['top_leftMargin'].fillna(0)\n",
    "data['top_bottomMargin'] = data['top_bottomMargin'].fillna(0)\n",
    "data['top_topMargin'] = data['top_topMargin'].fillna(0)\n",
    "data['top_h'] = data['top_h'].fillna(0)\n",
    "data['top_w'] = data['top_w'].fillna(0)\n",
    "data['top_endY'] = data['top_endY'].fillna(0)\n",
    "data['top_endX'] = data['top_endX'].fillna(0)\n",
    "\n",
    "data['top_startY'] = data['top_startY'].fillna(0)\n",
    "data['top_startX'] = data['top_startX'].fillna(0)\n",
    "data['bottom_wordPosition'] = data['bottom_wordPosition'].fillna(0)\n",
    "data['bottom_rightMargin'] = data['bottom_rightMargin'].fillna(0)\n",
    "data['bottom_leftMargin'] = data['bottom_leftMargin'].fillna(0)\n",
    "data['bottom_bottomMargin'] = data['bottom_bottomMargin'].fillna(0)\n",
    "data['bottom_topMargin'] = data['bottom_topMargin'].fillna(0)\n",
    "data['bottom_h'] = data['bottom_h'].fillna(0)\n",
    "\n",
    "data['bottom_w'] = data['bottom_w'].fillna(0)\n",
    "data['bottom_endY'] = data['bottom_endY'].fillna(0)\n",
    "data['bottom_endX'] = data['bottom_endX'].fillna(0)\n",
    "data['bottom_startY'] = data['bottom_startY'].fillna(0)\n",
    "data['bottom_startX'] = data['bottom_startX'].fillna(0)\n",
    "data['right_wordPosition'] = data['right_wordPosition'].fillna(0)\n",
    "data['right_rightMargin'] = data['right_rightMargin'].fillna(0)\n",
    "data['right_leftMargin'] = data['right_leftMargin'].fillna(0)\n",
    "data['right_bottomMargin'] = data['right_bottomMargin'].fillna(0)\n",
    "data['right_topMargin'] = data['right_topMargin'].fillna(0)\n",
    "data['right_h'] = data['right_h'].fillna(0)\n",
    "data['right_w'] = data['right_w'].fillna(0)\n",
    "data['right_endY'] = data['right_endY'].fillna(0)\n",
    "data['right_endX'] = data['right_endX'].fillna(0)\n",
    "data['right_startY'] = data['right_startY'].fillna(0)\n",
    "data['right_startX'] = data['right_startX'].fillna(0)\n",
    "data['left_wordPosition'] = data['left_wordPosition'].fillna(0)\n",
    "data['left_rightMargin'] = data['left_rightMargin'].fillna(0)\n",
    "data['left_leftMargin'] = data['left_leftMargin'].fillna(0)\n",
    "data['left_bottomMargin'] = data['left_bottomMargin'].fillna(0)\n",
    "data['left_topMargin'] = data['left_topMargin'].fillna(0)\n",
    "data['left_h'] = data['left_h'].fillna(0)\n",
    "data['left_w'] = data['left_w'].fillna(0)\n",
    "\n",
    "data['left_endY'] = data['left_endY'].fillna(0)\n",
    "data['left_endX'] = data['left_endX'].fillna(0)\n",
    "data['left_startY'] = data['left_startY'].fillna(0)\n",
    "data['left_startX'] = data['left_startX'].fillna(0)\n",
    "\n",
    "\n",
    "\n",
    "\n"
   ]
  },
  {
   "cell_type": "code",
   "execution_count": 12,
   "metadata": {},
   "outputs": [],
   "source": [
    "X = data.iloc[:, :-1].values\n",
    "y = data.iloc[:, -1].values"
   ]
  },
  {
   "cell_type": "code",
   "execution_count": 13,
   "metadata": {},
   "outputs": [],
   "source": [
    "from sklearn.model_selection import train_test_split\n",
    "X_train, X_test, y_train, y_test = train_test_split(X, y, test_size = 0.2, random_state = 0)"
   ]
  },
  {
   "cell_type": "code",
   "execution_count": 14,
   "metadata": {},
   "outputs": [
    {
     "data": {
      "text/plain": [
       "'from sklearn.model_selection import train_test_split\\ntrain_set, test_set  = train_test_split(data, test_size=0.2, random_state=42)'"
      ]
     },
     "execution_count": 14,
     "metadata": {},
     "output_type": "execute_result"
    }
   ],
   "source": [
    "'''from sklearn.model_selection import train_test_split\n",
    "train_set, test_set  = train_test_split(data, test_size=0.2, random_state=42)'''"
   ]
  },
  {
   "cell_type": "code",
   "execution_count": 15,
   "metadata": {},
   "outputs": [],
   "source": [
    "from sklearn.model_selection import StratifiedShuffleSplit\n",
    "split = StratifiedShuffleSplit(n_splits=1, test_size=0.2, random_state=42)\n",
    "for train_index, test_index in split.split(data, data['label']):\n",
    "    strat_train_set = data.loc[train_index]\n",
    "    strat_test_set = data.loc[test_index]"
   ]
  },
  {
   "cell_type": "code",
   "execution_count": 16,
   "metadata": {},
   "outputs": [
    {
     "data": {
      "text/plain": [
       "unnamed     381\n",
       "Name         11\n",
       "GSTIN         2\n",
       "Inv_date      2\n",
       "Inv_Num       1\n",
       "Amount        1\n",
       "Name: label, dtype: int64"
      ]
     },
     "execution_count": 16,
     "metadata": {},
     "output_type": "execute_result"
    }
   ],
   "source": [
    "strat_test_set['label'].value_counts()"
   ]
  },
  {
   "cell_type": "code",
   "execution_count": 17,
   "metadata": {},
   "outputs": [
    {
     "data": {
      "text/plain": [
       "unnamed     1520\n",
       "Name          44\n",
       "Inv_date       9\n",
       "Inv_Num        7\n",
       "GSTIN          6\n",
       "Amount         3\n",
       "Name: label, dtype: int64"
      ]
     },
     "execution_count": 17,
     "metadata": {},
     "output_type": "execute_result"
    }
   ],
   "source": [
    "strat_train_set['label'].value_counts()"
   ]
  },
  {
   "cell_type": "code",
   "execution_count": 18,
   "metadata": {},
   "outputs": [],
   "source": [
    "from sklearn.preprocessing import StandardScaler\n",
    "sc = StandardScaler()\n",
    "X_train = sc.fit_transform(X_train)\n",
    "X_test = sc.transform(X_test)"
   ]
  },
  {
   "cell_type": "code",
   "execution_count": 19,
   "metadata": {},
   "outputs": [
    {
     "data": {
      "text/plain": [
       "array([4, 4, 4, ..., 5, 5, 5])"
      ]
     },
     "execution_count": 19,
     "metadata": {},
     "output_type": "execute_result"
    }
   ],
   "source": [
    "from sklearn.preprocessing import LabelEncoder\n",
    "le = LabelEncoder()\n",
    "y = le.fit_transform(y)\n",
    "y"
   ]
  },
  {
   "cell_type": "code",
   "execution_count": 20,
   "metadata": {},
   "outputs": [],
   "source": [
    "#pipeline_lr=Pipeline([('scalar1',StandardScaler()),\n",
    " #                    ('pca1',PCA(n_components=2)),\n",
    "  #                   ('lr_classifier',LogisticRegression(random_state=0))])"
   ]
  },
  {
   "cell_type": "code",
   "execution_count": 21,
   "metadata": {},
   "outputs": [],
   "source": [
    "#pipeline_dt=Pipeline([('scalar2',StandardScaler()),\n",
    " #                    ('pca2',PCA(n_components=2)),\n",
    "  #                   ('dt_classifier',DecisionTreeClassifier())])\n"
   ]
  },
  {
   "cell_type": "code",
   "execution_count": 22,
   "metadata": {},
   "outputs": [],
   "source": [
    "#pipeline_randomforest=Pipeline([('scalar3',StandardScaler()),\n",
    " #                    ('pca3',PCA(n_components=2)),\n",
    "  #                   ('rf_classifier',RandomForestClassifier())])"
   ]
  },
  {
   "cell_type": "code",
   "execution_count": 23,
   "metadata": {},
   "outputs": [],
   "source": [
    "#pipelines = [pipeline_lr, pipeline_dt, pipeline_randomforest]"
   ]
  },
  {
   "cell_type": "code",
   "execution_count": 24,
   "metadata": {},
   "outputs": [],
   "source": [
    "#best_accuracy=0.0\n",
    "#best_classifier=0\n",
    "#best_pipeline=\"\""
   ]
  },
  {
   "cell_type": "code",
   "execution_count": 25,
   "metadata": {},
   "outputs": [],
   "source": [
    "#pipe_dict = {0: 'Logistic Regression', 1: 'Decision Tree', 2: 'RandomForest'}\n",
    "\n",
    "# Fit the pipelines\n",
    "#or pipe in pipelines:\n",
    "#\tpipe.fit(X_train, y_train)"
   ]
  },
  {
   "cell_type": "code",
   "execution_count": 26,
   "metadata": {},
   "outputs": [],
   "source": [
    "#for i,model in enumerate(pipelines):\n",
    " #   print(\"{} Test Accuracy: {}\".format(pipe_dict[i],model.score(X_test,y_test)))"
   ]
  },
  {
   "cell_type": "code",
   "execution_count": 29,
   "metadata": {},
   "outputs": [],
   "source": [
    "#for i,model in enumerate(pipelines):\n",
    " #   if model.score(X_test,y_test)>best_accuracy:\n",
    "  #      best_accuracy=model.score(X_test,y_test)\n",
    "   #     best_pipeline=model\n",
    "    #    best_classifier=i\n",
    "#print('Classifier with best accuracy:{}'.format(pipe_dict[best_classifier]))"
   ]
  },
  {
   "cell_type": "code",
   "execution_count": 28,
   "metadata": {},
   "outputs": [],
   "source": [
    "#from sklearn.model_selection import GridSearchCV\n"
   ]
  },
  {
   "cell_type": "code",
   "execution_count": null,
   "metadata": {},
   "outputs": [],
   "source": []
  }
 ],
 "metadata": {
  "kernelspec": {
   "display_name": "Python 3",
   "language": "python",
   "name": "python3"
  },
  "language_info": {
   "codemirror_mode": {
    "name": "ipython",
    "version": 3
   },
   "file_extension": ".py",
   "mimetype": "text/x-python",
   "name": "python",
   "nbconvert_exporter": "python",
   "pygments_lexer": "ipython3",
   "version": "3.8.5"
  }
 },
 "nbformat": 4,
 "nbformat_minor": 4
}
